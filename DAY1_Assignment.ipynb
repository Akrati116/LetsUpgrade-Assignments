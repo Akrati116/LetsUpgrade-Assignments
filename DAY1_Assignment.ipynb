{
  "nbformat": 4,
  "nbformat_minor": 0,
  "metadata": {
    "colab": {
      "name": "DAY1_Assignment.ipynb",
      "provenance": [],
      "collapsed_sections": []
    },
    "kernelspec": {
      "name": "python3",
      "display_name": "Python 3"
    },
    "language_info": {
      "name": "python"
    }
  },
  "cells": [
    {
      "cell_type": "code",
      "metadata": {
        "colab": {
          "base_uri": "https://localhost:8080/"
        },
        "id": "wKujO7G49-xB",
        "outputId": "afb4f8cd-acc1-4161-c7a5-f905aa17403d"
      },
      "source": [
        "a=45\n",
        "b=20\n",
        "\n",
        "print('Sum=',a+b)\n",
        "print('Subtraction=',a-b)\n",
        "print('Multiply=',a*b)\n",
        "print('Division=',a/b)\n",
        "print('Modulus=',a%b)\n",
        "print('Floor=',a//b)\n",
        "print('BODMAS=',(a*b)+(a/b)) ##BODMAS"
      ],
      "execution_count": 3,
      "outputs": [
        {
          "output_type": "stream",
          "name": "stdout",
          "text": [
            "Sum= 65\n",
            "Subtraction= 25\n",
            "Multiply= 900\n",
            "Division= 2.25\n",
            "Modulus= 5\n",
            "Floor= 2\n",
            "BODMAS= 902.25\n"
          ]
        }
      ]
    },
    {
      "cell_type": "code",
      "metadata": {
        "colab": {
          "base_uri": "https://localhost:8080/"
        },
        "id": "3tYTSMVy-ld1",
        "outputId": "f0ec3988-0467-4aec-dc22-96261e899090"
      },
      "source": [
        "#Write a program which accept principle, rate and time from user and print the simple interest. The formula to calculate simple interest is: \n",
        "#simple interest = principle x rate x time / 100 Solution\n",
        "\n",
        "p=int(input(\"Enter principle=\"))\n",
        "r=int(input(\"Enter rate=\"))\n",
        "t=int(input(\"Enter Time=\"))\n",
        "si=(p*r*t)/100\n",
        "print(\"Simple Inetrest=\",si)"
      ],
      "execution_count": 8,
      "outputs": [
        {
          "output_type": "stream",
          "name": "stdout",
          "text": [
            "Enter principle200\n",
            "Enter rate20\n",
            "Enter Time10\n",
            "Simple Inetrest= 400.0\n"
          ]
        }
      ]
    },
    {
      "cell_type": "code",
      "metadata": {
        "id": "sZ7Mxz_H_94C"
      },
      "source": [
        ""
      ],
      "execution_count": null,
      "outputs": []
    }
  ]
}